{
 "cells": [
  {
   "cell_type": "code",
   "execution_count": 3,
   "metadata": {},
   "outputs": [
    {
     "data": {
      "text/plain": [
       "True"
      ]
     },
     "execution_count": 3,
     "metadata": {},
     "output_type": "execute_result"
    }
   ],
   "source": [
    "# the JSON module can take certain Python data structures like dictionaries and convert them to JSON\n",
    "import json\n",
    "import os\n",
    "import json\n",
    "import pandas as pd\n",
    "\n",
    "os.path.exists('sample_data/wine-ratings-small.csv')\n",
    "\n"
   ]
  },
  {
   "cell_type": "code",
   "execution_count": 6,
   "metadata": {},
   "outputs": [
    {
     "data": {
      "text/plain": [
       "0      White Wine\n",
       "1      White Wine\n",
       "2      White Wine\n",
       "3      White Wine\n",
       "4      White Wine\n",
       "          ...    \n",
       "775      Red Wine\n",
       "776      Red Wine\n",
       "777      Red Wine\n",
       "778      Red Wine\n",
       "779      Red Wine\n",
       "Name: variety, Length: 780, dtype: object"
      ]
     },
     "execution_count": 6,
     "metadata": {},
     "output_type": "execute_result"
    }
   ],
   "source": [
    "df = pd.read_csv(r'sample_data/wine-ratings-small.csv')\n",
    "variety = df['variety']\n",
    "df.to_json('eduardoNewJson.json')\n",
    "\n"
   ]
  }
 ],
 "metadata": {
  "kernelspec": {
   "display_name": "Python 3",
   "language": "python",
   "name": "python3"
  },
  "language_info": {
   "codemirror_mode": {
    "name": "ipython",
    "version": 3
   },
   "file_extension": ".py",
   "mimetype": "text/x-python",
   "name": "python",
   "nbconvert_exporter": "python",
   "pygments_lexer": "ipython3",
   "version": "3.10.9"
  },
  "orig_nbformat": 4,
  "vscode": {
   "interpreter": {
    "hash": "16108603970823d50d94a3511eabe0191f34ae9273b2da8b5050c4dcf88d5a06"
   }
  }
 },
 "nbformat": 4,
 "nbformat_minor": 2
}
